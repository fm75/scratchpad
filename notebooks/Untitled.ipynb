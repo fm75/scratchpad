{
 "cells": [
  {
   "cell_type": "code",
   "execution_count": 1,
   "id": "d88fd90d-cbc7-449a-934f-b753b7a056c4",
   "metadata": {},
   "outputs": [],
   "source": [
    "from dataclasses import dataclass, asdict\n",
    "import json\n",
    "import datetime\n",
    "import dateutil.parser\n",
    "import inspect"
   ]
  },
  {
   "cell_type": "code",
   "execution_count": 2,
   "id": "7dac0537-72ab-46f7-b44c-23c2b7d39633",
   "metadata": {},
   "outputs": [],
   "source": [
    "class DateTimeEncoder(json.JSONEncoder):\n",
    "    def default(self, obj):\n",
    "        if isinstance(obj, (datetime.date, datetime.datetime)):\n",
    "            return obj.isoformat()"
   ]
  },
  {
   "cell_type": "code",
   "execution_count": 3,
   "id": "22ecc212-f6c3-4930-a49d-8e35bd9746ea",
   "metadata": {},
   "outputs": [],
   "source": [
    "def to_dataclass(cls, data):\n",
    "    return cls(\n",
    "        **{key: data[key] if value.default == value.empty else data.get(key, value.default)\n",
    "           for key, value in inspect.signature(cls).parameters.items()\n",
    "          }\n",
    "    )"
   ]
  },
  {
   "cell_type": "code",
   "execution_count": 4,
   "id": "c5fe0d0a-c848-47fc-95ac-e21478aa9097",
   "metadata": {},
   "outputs": [],
   "source": [
    "@dataclass\n",
    "class foo:\n",
    "    i: int\n",
    "    f: float\n",
    "    t: datetime.datetime  "
   ]
  },
  {
   "cell_type": "code",
   "execution_count": 5,
   "id": "e7627d67-dc95-43e9-b06f-95a68b64cace",
   "metadata": {},
   "outputs": [
    {
     "data": {
      "text/plain": [
       "foo(i=1, f=2.1, t=datetime.datetime(2022, 2, 21, 11, 31, 52, 555021))"
      ]
     },
     "execution_count": 5,
     "metadata": {},
     "output_type": "execute_result"
    }
   ],
   "source": [
    "f = foo(1, 2.1, datetime.datetime.now())\n",
    "f"
   ]
  },
  {
   "cell_type": "code",
   "execution_count": 6,
   "id": "b64102b1-ac29-447e-bd37-bf68cef23678",
   "metadata": {},
   "outputs": [
    {
     "data": {
      "text/plain": [
       "'{\"i\": 1, \"f\": 2.1, \"t\": \"2022-02-21T11:31:52.555021\"}'"
      ]
     },
     "execution_count": 6,
     "metadata": {},
     "output_type": "execute_result"
    }
   ],
   "source": [
    "s = json.dumps(asdict(f), cls=DateTimeEncoder)\n",
    "s"
   ]
  },
  {
   "cell_type": "code",
   "execution_count": null,
   "id": "9b5a2f30-766b-4785-869e-857538498ec6",
   "metadata": {},
   "outputs": [],
   "source": []
  }
 ],
 "metadata": {
  "kernelspec": {
   "display_name": "Python 3 (ipykernel)",
   "language": "python",
   "name": "python3"
  },
  "language_info": {
   "codemirror_mode": {
    "name": "ipython",
    "version": 3
   },
   "file_extension": ".py",
   "mimetype": "text/x-python",
   "name": "python",
   "nbconvert_exporter": "python",
   "pygments_lexer": "ipython3",
   "version": "3.7.12"
  }
 },
 "nbformat": 4,
 "nbformat_minor": 5
}
